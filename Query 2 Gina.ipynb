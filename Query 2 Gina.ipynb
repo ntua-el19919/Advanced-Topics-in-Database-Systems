{
 "cells": [
  {
   "cell_type": "code",
   "execution_count": 31,
   "id": "03117f24",
   "metadata": {
    "tags": []
   },
   "outputs": [
    {
     "data": {
      "application/vnd.jupyter.widget-view+json": {
       "model_id": "",
       "version_major": 2,
       "version_minor": 0
      },
      "text/plain": [
       "FloatProgress(value=0.0, bar_style='info', description='Progress:', layout=Layout(height='25px', width='50%'),…"
      ]
     },
     "metadata": {},
     "output_type": "display_data"
    },
    {
     "name": "stdout",
     "output_type": "stream",
     "text": [
      "+----+-----------+------------------+---+\n",
      "|year|   precinct|  closed_case_rate|  #|\n",
      "+----+-----------+------------------+---+\n",
      "|2010|    Rampart|32.947355855318136|  1|\n",
      "|2010|    Olympic|31.962706191728426|  2|\n",
      "|2010|     Harbor| 29.63203463203463|  3|\n",
      "|2011|    Olympic|35.212167689161554|  1|\n",
      "|2011|    Rampart|32.511779630300836|  2|\n",
      "|2011|     Harbor| 28.65220520201501|  3|\n",
      "|2012|    Olympic|34.414818310523835|  1|\n",
      "|2012|    Rampart|  32.9464181029429|  2|\n",
      "|2012|     Harbor|29.815133276010318|  3|\n",
      "|2013|    Olympic| 33.52812271731191|  1|\n",
      "|2013|    Rampart| 32.08287360549222|  2|\n",
      "|2013|     Harbor|29.164224592662055|  3|\n",
      "|2014|   Van Nuys| 31.80567315834039|  1|\n",
      "|2014|West Valley|31.311989956057754|  2|\n",
      "|2014|    Mission|31.162790697674417|  3|\n",
      "|2015|   Van Nuys|32.641346981727736|  1|\n",
      "|2015|West Valley|30.275974025974026|  2|\n",
      "|2015|    Mission|30.179460678380156|  3|\n",
      "|2016|   Van Nuys|31.880755720117726|  1|\n",
      "|2016|West Valley| 31.54798761609907|  2|\n",
      "|2016|   Foothill|29.870291843352458|  3|\n",
      "|2017|   Van Nuys| 32.02034211742949|  1|\n",
      "|2017|    Mission|31.038925186343977|  2|\n",
      "|2017|   Foothill|30.469226081657524|  3|\n",
      "|2018|   Foothill|30.708950655075302|  1|\n",
      "|2018|    Mission| 30.69066147859922|  2|\n",
      "|2018|   Van Nuys|29.078685730517943|  3|\n",
      "|2019|West Valley| 30.77447195094254|  1|\n",
      "|2019|    Mission|30.748519116855142|  2|\n",
      "|2019|   Foothill| 29.53842186694172|  3|\n",
      "|2020|West Valley|31.144886009717204|  1|\n",
      "|2020|    Mission| 30.38777908343126|  2|\n",
      "|2020|     Harbor|29.880657509569918|  3|\n",
      "|2021|    Mission|30.913913672534363|  1|\n",
      "|2021|West Valley| 28.87750349324639|  2|\n",
      "|2021|   Foothill|28.464788732394368|  3|\n",
      "|2022|West Valley| 26.64366494153728|  1|\n",
      "|2022|     Harbor|26.334056399132322|  2|\n",
      "|2022|    Topanga| 26.27340236376948|  3|\n",
      "|2023|   Foothill|  26.8215994531784|  1|\n",
      "|2023|    Topanga|26.407806464728605|  2|\n",
      "|2023|    Mission|25.941195616795053|  3|\n",
      "|2024|N Hollywood|19.514978601997147|  1|\n",
      "|2024|   Foothill|18.531827515400412|  2|\n",
      "|2024|77th Street|17.349137931034484|  3|\n",
      "+----+-----------+------------------+---+\n",
      "\n",
      "Time taken: 24.48 seconds"
     ]
    }
   ],
   "source": [
    "from pyspark.sql import SparkSession\n",
    "from pyspark.sql.types import StructField, StructType, IntegerType, FloatType, StringType, TimestampType\n",
    "from pyspark.sql.functions import col, udf\n",
    "import time\n",
    "import csv\n",
    "\n",
    "\n",
    "#Spark Session Config for 4 executors\n",
    "sc = SparkSession \\\n",
    "    .builder \\\n",
    "    .appName(\"SQL API query 2 execution\") \\\n",
    "    .getOrCreate() \\\n",
    "    \n",
    "#Start timer\n",
    "start_time = time.time()\n",
    "\n",
    "#Read data from both datasets (10-19 and 20-present)\n",
    "crime_df = spark.read.csv(\n",
    "    \"s3://initial-notebook-data-bucket-dblab-905418150721/CrimeData/Crime_Data_from_*.csv\",\n",
    "    header=True,\n",
    "    inferSchema=True\n",
    ")\n",
    "crime_df.createOrReplaceTempView(\"crime_df\")\n",
    "      \n",
    "query=\"\"\"\n",
    "    WITH initial_data AS (\n",
    "        SELECT \n",
    "            SUBSTR(`Date Rptd`, 7, 4) AS year,\n",
    "            `AREA NAME` AS precinct,\n",
    "            Status\n",
    "    FROM crime_df\n",
    "),\n",
    "    ranked_data AS (\n",
    "        SELECT\n",
    "            year,\n",
    "            precinct,\n",
    "            (COUNT(CASE WHEN Status != 'IC' THEN 1 END) * 100) / COUNT(*) AS closed_case_rate,\n",
    "            ROW_NUMBER() OVER (PARTITION BY year ORDER BY (COUNT(CASE WHEN Status != 'IC' THEN 1 END) * 100) / COUNT(*) DESC) AS `#`\n",
    "    FROM initial_data\n",
    "    GROUP BY year, precinct\n",
    "    )\n",
    "    SELECT \n",
    "        year,\n",
    "        precinct,\n",
    "        closed_case_rate,\n",
    "        `#`\n",
    "    FROM ranked_data\n",
    "    WHERE `#` < 4;\n",
    "\"\"\"\n",
    "results= spark.sql(query)\n",
    "results.show(45)\n",
    "end_time = time.time()\n",
    "\n",
    "print(f\"Time taken: {end_time-start_time:.2f} seconds\")"
   ]
  },
  {
   "cell_type": "code",
   "execution_count": null,
   "id": "47f1f700",
   "metadata": {},
   "outputs": [],
   "source": []
  },
  {
   "cell_type": "code",
   "execution_count": null,
   "id": "2eb08d9d",
   "metadata": {},
   "outputs": [],
   "source": []
  }
 ],
 "metadata": {
  "kernelspec": {
   "display_name": "Sparkmagic (PySpark)",
   "language": "python",
   "name": "pysparkkernel"
  },
  "language_info": {
   "codemirror_mode": {
    "name": "python",
    "version": 3
   },
   "file_extension": ".py",
   "mimetype": "text/x-python",
   "name": "pyspark",
   "pygments_lexer": "python3"
  }
 },
 "nbformat": 4,
 "nbformat_minor": 5
}
