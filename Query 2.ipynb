{
 "cells": [
  {
   "cell_type": "code",
   "execution_count": 1,
   "id": "f4d2124e",
   "metadata": {
    "tags": []
   },
   "outputs": [
    {
     "name": "stdout",
     "output_type": "stream",
     "text": [
      "Starting Spark application\n"
     ]
    },
    {
     "data": {
      "text/html": [
       "<table>\n",
       "<tr><th>ID</th><th>YARN Application ID</th><th>Kind</th><th>State</th><th>Spark UI</th><th>Driver log</th><th>User</th><th>Current session?</th></tr><tr><td>4123</td><td>application_1732639283265_4063</td><td>pyspark</td><td>idle</td><td><a target=\"_blank\" href=\"http://ip-192-168-1-36.eu-central-1.compute.internal:20888/proxy/application_1732639283265_4063/\">Link</a></td><td><a target=\"_blank\" href=\"http://ip-192-168-1-193.eu-central-1.compute.internal:8042/node/containerlogs/container_1732639283265_4063_01_000002/livy\">Link</a></td><td>None</td><td>✔</td></tr></table>"
      ],
      "text/plain": [
       "<IPython.core.display.HTML object>"
      ]
     },
     "metadata": {},
     "output_type": "display_data"
    },
    {
     "data": {
      "application/vnd.jupyter.widget-view+json": {
       "model_id": "",
       "version_major": 2,
       "version_minor": 0
      },
      "text/plain": [
       "FloatProgress(value=0.0, bar_style='info', description='Progress:', layout=Layout(height='25px', width='50%'),…"
      ]
     },
     "metadata": {},
     "output_type": "display_data"
    },
    {
     "name": "stdout",
     "output_type": "stream",
     "text": [
      "SparkSession available as 'spark'.\n"
     ]
    },
    {
     "data": {
      "application/vnd.jupyter.widget-view+json": {
       "model_id": "",
       "version_major": 2,
       "version_minor": 0
      },
      "text/plain": [
       "FloatProgress(value=0.0, bar_style='info', description='Progress:', layout=Layout(height='25px', width='50%'),…"
      ]
     },
     "metadata": {},
     "output_type": "display_data"
    },
    {
     "name": "stdout",
     "output_type": "stream",
     "text": [
      "+----+-----------+------------------+---+\n",
      "|year|precinct   |closed_case_rate  |#  |\n",
      "+----+-----------+------------------+---+\n",
      "|2010|Rampart    |32.947355855318136|1  |\n",
      "|2010|Olympic    |31.962706191728422|2  |\n",
      "|2010|Harbor     |29.63203463203463 |3  |\n",
      "|2011|Olympic    |35.212167689161554|1  |\n",
      "|2011|Rampart    |32.511779630300836|2  |\n",
      "|2011|Harbor     |28.652205202015008|3  |\n",
      "|2012|Olympic    |34.414818310523835|1  |\n",
      "|2012|Rampart    |32.9464181029429  |2  |\n",
      "|2012|Harbor     |29.815133276010318|3  |\n",
      "|2013|Olympic    |33.52812271731191 |1  |\n",
      "|2013|Rampart    |32.08287360549221 |2  |\n",
      "|2013|Harbor     |29.16422459266206 |3  |\n",
      "|2014|Van Nuys   |31.80567315834039 |1  |\n",
      "|2014|West Valley|31.31198995605775 |2  |\n",
      "|2014|Mission    |31.16279069767442 |3  |\n",
      "|2015|Van Nuys   |32.64134698172773 |1  |\n",
      "|2015|West Valley|30.27597402597403 |2  |\n",
      "|2015|Mission    |30.179460678380153|3  |\n",
      "|2016|Van Nuys   |31.880755720117726|1  |\n",
      "|2016|West Valley|31.54798761609907 |2  |\n",
      "|2016|Foothill   |29.870291843352458|3  |\n",
      "|2017|Van Nuys   |32.02034211742949 |1  |\n",
      "|2017|Mission    |31.03892518634398 |2  |\n",
      "|2017|Foothill   |30.469226081657524|3  |\n",
      "|2018|Foothill   |30.708950655075302|1  |\n",
      "|2018|Mission    |30.690661478599225|2  |\n",
      "|2018|Van Nuys   |29.078685730517943|3  |\n",
      "|2019|West Valley|30.77447195094254 |1  |\n",
      "|2019|Mission    |30.748519116855142|2  |\n",
      "|2019|Foothill   |29.53842186694172 |3  |\n",
      "|2020|West Valley|31.144886009717204|1  |\n",
      "|2020|Mission    |30.38777908343126 |2  |\n",
      "|2020|Harbor     |29.880657509569918|3  |\n",
      "|2021|Mission    |30.91391367253436 |1  |\n",
      "|2021|West Valley|28.877503493246394|2  |\n",
      "|2021|Foothill   |28.464788732394364|3  |\n",
      "|2022|West Valley|26.64366494153728 |1  |\n",
      "|2022|Harbor     |26.334056399132322|2  |\n",
      "|2022|Topanga    |26.27340236376948 |3  |\n",
      "|2023|Foothill   |26.8215994531784  |1  |\n",
      "|2023|Topanga    |26.407806464728605|2  |\n",
      "|2023|Mission    |25.941195616795053|3  |\n",
      "|2024|N Hollywood|19.514978601997147|1  |\n",
      "|2024|Foothill   |18.531827515400412|2  |\n",
      "|2024|77th Street|17.349137931034484|3  |\n",
      "+----+-----------+------------------+---+\n",
      "\n",
      "Time taken: 36.47 seconds"
     ]
    }
   ],
   "source": [
    "#Query 2 Initialisation with Dataframe\n",
    "from pyspark.sql import SparkSession\n",
    "from pyspark.sql import functions as F\n",
    "from pyspark.sql.window import Window\n",
    "import time\n",
    "\n",
    "spark = SparkSession \\\n",
    "    .builder \\\n",
    "    .appName(\"Query 2 Dataframe csv\") \\\n",
    "    .getOrCreate()\n",
    "\n",
    "window_spec = Window.partitionBy(\"year\").orderBy(F.desc(\"closed_case_rate\"))\n",
    "start_time = time.time()\n",
    "dataframe = (spark.read\n",
    "              .option(\"header\", \"true\")\n",
    "              .option(\"inferSchema\", \"true\")\n",
    "              .csv(\"s3://initial-notebook-data-bucket-dblab-905418150721/CrimeData/Crime_Data_from_*.csv\"))\n",
    "\n",
    "dataframe = (dataframe\n",
    "              .withColumn(\"report_date\", F.to_timestamp(\"Date Rptd\", \"MM/dd/yyyy hh:mm:ss a\"))\n",
    "              .withColumn(\"year\", F.year(\"report_date\"))\n",
    "              .withColumnRenamed(\"AREA NAME\", \"precinct\"))\n",
    "\n",
    "closed_case_rate_df = (dataframe\n",
    "                       .groupBy(\"year\", \"precinct\")\n",
    "                       .agg(((F.sum(F.when(F.col(\"Status\") != \"IC\", 1).otherwise(0)) / F.count(\"*\")) * 100)\n",
    "                       .alias(\"closed_case_rate\")))\n",
    "\n",
    "\n",
    "ranked_precincts = (closed_case_rate_df\n",
    "                    .withColumn(\"#\", F.row_number().over(window_spec))\n",
    "                    .filter(F.col(\"#\") <= 3))\n",
    "\n",
    "ranked_precincts.show(50, truncate=False)\n",
    "\n",
    "end_time = time.time()\n",
    "print(f\"Time taken: {end_time - start_time:.2f} seconds\")\n"
   ]
  },
  {
   "cell_type": "code",
   "execution_count": 2,
   "id": "89f0d379-5470-45a6-9024-5b3d9332e2c1",
   "metadata": {
    "tags": []
   },
   "outputs": [
    {
     "data": {
      "application/vnd.jupyter.widget-view+json": {
       "model_id": "",
       "version_major": 2,
       "version_minor": 0
      },
      "text/plain": [
       "FloatProgress(value=0.0, bar_style='info', description='Progress:', layout=Layout(height='25px', width='50%'),…"
      ]
     },
     "metadata": {},
     "output_type": "display_data"
    },
    {
     "name": "stdout",
     "output_type": "stream",
     "text": [
      "+----+-----------+------------------+---+\n",
      "|year|   precinct|  closed_case_rate|  #|\n",
      "+----+-----------+------------------+---+\n",
      "|2010|    Rampart|32.947355855318136|  1|\n",
      "|2010|    Olympic|31.962706191728426|  2|\n",
      "|2010|     Harbor| 29.63203463203463|  3|\n",
      "|2011|    Olympic|35.212167689161554|  1|\n",
      "|2011|    Rampart|32.511779630300836|  2|\n",
      "|2011|     Harbor| 28.65220520201501|  3|\n",
      "|2012|    Olympic|34.414818310523835|  1|\n",
      "|2012|    Rampart|  32.9464181029429|  2|\n",
      "|2012|     Harbor|29.815133276010318|  3|\n",
      "|2013|    Olympic| 33.52812271731191|  1|\n",
      "|2013|    Rampart| 32.08287360549222|  2|\n",
      "|2013|     Harbor|29.164224592662055|  3|\n",
      "|2014|   Van Nuys| 31.80567315834039|  1|\n",
      "|2014|West Valley|31.311989956057754|  2|\n",
      "|2014|    Mission|31.162790697674417|  3|\n",
      "|2015|   Van Nuys|32.641346981727736|  1|\n",
      "|2015|West Valley|30.275974025974026|  2|\n",
      "|2015|    Mission|30.179460678380156|  3|\n",
      "|2016|   Van Nuys|31.880755720117726|  1|\n",
      "|2016|West Valley| 31.54798761609907|  2|\n",
      "|2016|   Foothill|29.870291843352458|  3|\n",
      "|2017|   Van Nuys| 32.02034211742949|  1|\n",
      "|2017|    Mission|31.038925186343977|  2|\n",
      "|2017|   Foothill|30.469226081657524|  3|\n",
      "|2018|   Foothill|30.708950655075302|  1|\n",
      "|2018|    Mission| 30.69066147859922|  2|\n",
      "|2018|   Van Nuys|29.078685730517943|  3|\n",
      "|2019|West Valley| 30.77447195094254|  1|\n",
      "|2019|    Mission|30.748519116855142|  2|\n",
      "|2019|   Foothill| 29.53842186694172|  3|\n",
      "|2020|West Valley|31.144886009717204|  1|\n",
      "|2020|    Mission| 30.38777908343126|  2|\n",
      "|2020|     Harbor|29.880657509569918|  3|\n",
      "|2021|    Mission|30.913913672534363|  1|\n",
      "|2021|West Valley| 28.87750349324639|  2|\n",
      "|2021|   Foothill|28.464788732394368|  3|\n",
      "|2022|West Valley| 26.64366494153728|  1|\n",
      "|2022|     Harbor|26.334056399132322|  2|\n",
      "|2022|    Topanga| 26.27340236376948|  3|\n",
      "|2023|   Foothill|  26.8215994531784|  1|\n",
      "|2023|    Topanga|26.407806464728605|  2|\n",
      "|2023|    Mission|25.941195616795053|  3|\n",
      "|2024|N Hollywood|19.514978601997147|  1|\n",
      "|2024|   Foothill|18.531827515400412|  2|\n",
      "|2024|77th Street|17.349137931034484|  3|\n",
      "+----+-----------+------------------+---+\n",
      "\n",
      "Time taken: 13.87 seconds"
     ]
    }
   ],
   "source": [
    "#Query 2 Initialisation with SQL API\n",
    "from pyspark.sql import SparkSession\n",
    "from pyspark.sql.types import StructField, StructType, IntegerType, FloatType, StringType, TimestampType\n",
    "from pyspark.sql.functions import col, udf\n",
    "import time\n",
    "import csv\n",
    "\n",
    "\n",
    "sc = SparkSession \\\n",
    "    .builder \\\n",
    "    .appName(\"SQL API query 2 execution\") \\\n",
    "    .getOrCreate() \\\n",
    "    \n",
    "#Start timer\n",
    "start_time = time.time()\n",
    "\n",
    "#Read data from both datasets (10-19 and 20-present)\n",
    "crime_df = spark.read.csv(\n",
    "    \"s3://initial-notebook-data-bucket-dblab-905418150721/CrimeData/Crime_Data_from_*.csv\",\n",
    "    header=True,\n",
    "    inferSchema=True\n",
    ")\n",
    "crime_df.createOrReplaceTempView(\"crime_df\")\n",
    "      \n",
    "query=\"\"\"\n",
    "    WITH initial_data AS (\n",
    "        SELECT \n",
    "            SUBSTR(`Date Rptd`, 7, 4) AS year,\n",
    "            `AREA NAME` AS precinct,\n",
    "            Status\n",
    "    FROM crime_df\n",
    "),\n",
    "    ranked_data AS (\n",
    "        SELECT\n",
    "            year,\n",
    "            precinct,\n",
    "            (COUNT(CASE WHEN Status != 'IC' THEN 1 END) * 100) / COUNT(*) AS closed_case_rate,\n",
    "            ROW_NUMBER() OVER (PARTITION BY year ORDER BY (COUNT(CASE WHEN Status != 'IC' THEN 1 END) * 100) / COUNT(*) DESC) AS `#`\n",
    "    FROM initial_data\n",
    "    GROUP BY year, precinct\n",
    "    )\n",
    "    SELECT \n",
    "        year,\n",
    "        precinct,\n",
    "        closed_case_rate,\n",
    "        `#`\n",
    "    FROM ranked_data\n",
    "    WHERE `#` < 4;\n",
    "\"\"\"\n",
    "results= spark.sql(query)\n",
    "results.show(45)\n",
    "end_time = time.time()\n",
    "\n",
    "print(f\"Time taken: {end_time-start_time:.2f} seconds\")"
   ]
  },
  {
   "cell_type": "code",
   "execution_count": 3,
   "id": "a644d9a1-1653-414b-9db9-e995a8b41dfb",
   "metadata": {
    "tags": []
   },
   "outputs": [
    {
     "data": {
      "application/vnd.jupyter.widget-view+json": {
       "model_id": "",
       "version_major": 2,
       "version_minor": 0
      },
      "text/plain": [
       "FloatProgress(value=0.0, bar_style='info', description='Progress:', layout=Layout(height='25px', width='50%'),…"
      ]
     },
     "metadata": {},
     "output_type": "display_data"
    }
   ],
   "source": [
    "#Query 2b write parquet\n",
    "from pyspark.sql import SparkSession\n",
    "spark = SparkSession \\\n",
    "    .builder \\\n",
    "    .appName(\"Query 2b write parquet\") \\\n",
    "    .getOrCreate()\n",
    "\n",
    "dataframe= spark.read.csv(\"s3://initial-notebook-data-bucket-dblab-905418150721/CrimeData/Crime_Data_from_*.csv\", header=True)\n",
    "\n",
    "dataframe.coalesce(1).write.mode(\"overwrite\").parquet(\"s3://groups-bucket-dblab-905418150721/group12/main_dataset_parquet\") "
   ]
  },
  {
   "cell_type": "code",
   "execution_count": 4,
   "id": "13a572a9-d605-477c-8b15-d5698d2c03de",
   "metadata": {
    "tags": []
   },
   "outputs": [
    {
     "data": {
      "application/vnd.jupyter.widget-view+json": {
       "model_id": "",
       "version_major": 2,
       "version_minor": 0
      },
      "text/plain": [
       "FloatProgress(value=0.0, bar_style='info', description='Progress:', layout=Layout(height='25px', width='50%'),…"
      ]
     },
     "metadata": {},
     "output_type": "display_data"
    },
    {
     "name": "stdout",
     "output_type": "stream",
     "text": [
      "+----+-----------+------------------+---+\n",
      "|year|precinct   |closed_case_rate  |#  |\n",
      "+----+-----------+------------------+---+\n",
      "|2010|Rampart    |32.947355855318136|1  |\n",
      "|2010|Olympic    |31.962706191728422|2  |\n",
      "|2010|Harbor     |29.63203463203463 |3  |\n",
      "|2011|Olympic    |35.212167689161554|1  |\n",
      "|2011|Rampart    |32.511779630300836|2  |\n",
      "|2011|Harbor     |28.652205202015008|3  |\n",
      "|2012|Olympic    |34.414818310523835|1  |\n",
      "|2012|Rampart    |32.9464181029429  |2  |\n",
      "|2012|Harbor     |29.815133276010318|3  |\n",
      "|2013|Olympic    |33.52812271731191 |1  |\n",
      "|2013|Rampart    |32.08287360549221 |2  |\n",
      "|2013|Harbor     |29.16422459266206 |3  |\n",
      "|2014|Van Nuys   |31.80567315834039 |1  |\n",
      "|2014|West Valley|31.31198995605775 |2  |\n",
      "|2014|Mission    |31.16279069767442 |3  |\n",
      "|2015|Van Nuys   |32.64134698172773 |1  |\n",
      "|2015|West Valley|30.27597402597403 |2  |\n",
      "|2015|Mission    |30.179460678380153|3  |\n",
      "|2016|Van Nuys   |31.880755720117726|1  |\n",
      "|2016|West Valley|31.54798761609907 |2  |\n",
      "|2016|Foothill   |29.870291843352458|3  |\n",
      "|2017|Van Nuys   |32.02034211742949 |1  |\n",
      "|2017|Mission    |31.03892518634398 |2  |\n",
      "|2017|Foothill   |30.469226081657524|3  |\n",
      "|2018|Foothill   |30.708950655075302|1  |\n",
      "|2018|Mission    |30.690661478599225|2  |\n",
      "|2018|Van Nuys   |29.078685730517943|3  |\n",
      "|2019|West Valley|30.77447195094254 |1  |\n",
      "|2019|Mission    |30.748519116855142|2  |\n",
      "|2019|Foothill   |29.53842186694172 |3  |\n",
      "|2020|West Valley|31.144886009717204|1  |\n",
      "|2020|Mission    |30.38777908343126 |2  |\n",
      "|2020|Harbor     |29.880657509569918|3  |\n",
      "|2021|Mission    |30.91391367253436 |1  |\n",
      "|2021|West Valley|28.877503493246394|2  |\n",
      "|2021|Foothill   |28.464788732394364|3  |\n",
      "|2022|West Valley|26.64366494153728 |1  |\n",
      "|2022|Harbor     |26.334056399132322|2  |\n",
      "|2022|Topanga    |26.27340236376948 |3  |\n",
      "|2023|Foothill   |26.8215994531784  |1  |\n",
      "|2023|Topanga    |26.407806464728605|2  |\n",
      "|2023|Mission    |25.941195616795053|3  |\n",
      "|2024|N Hollywood|19.514978601997147|1  |\n",
      "|2024|Foothill   |18.531827515400412|2  |\n",
      "|2024|77th Street|17.349137931034484|3  |\n",
      "+----+-----------+------------------+---+\n",
      "\n",
      "Time taken: 4.64 seconds"
     ]
    }
   ],
   "source": [
    "#Query 2b Parquet Initialisation with Dataframe \n",
    "from pyspark.sql import SparkSession\n",
    "from pyspark.sql import functions as F\n",
    "from pyspark.sql.window import Window\n",
    "import time\n",
    "\n",
    "spark = SparkSession \\\n",
    "    .builder \\\n",
    "    .appName(\"Query 2 Dataframe parquet\") \\\n",
    "    .getOrCreate()\n",
    "\n",
    "window_spec = Window.partitionBy(\"year\").orderBy(F.desc(\"closed_case_rate\"))\n",
    "start_time = time.time()\n",
    "dataframe = (spark.read\n",
    "              .option(\"header\", \"true\")\n",
    "              .option(\"inferSchema\", \"true\")\n",
    "              .parquet(\"s3://groups-bucket-dblab-905418150721/group12/main_dataset_parquet\"))\n",
    "\n",
    "dataframe = (dataframe\n",
    "              .withColumn(\"report_date\", F.to_timestamp(\"Date Rptd\", \"MM/dd/yyyy hh:mm:ss a\"))\n",
    "              .withColumn(\"year\", F.year(\"report_date\"))\n",
    "              .withColumnRenamed(\"AREA NAME\", \"precinct\"))\n",
    "\n",
    "closed_case_rate_df = (dataframe\n",
    "                       .groupBy(\"year\", \"precinct\")\n",
    "                       .agg(((F.sum(F.when(F.col(\"Status\") != \"IC\", 1).otherwise(0)) / F.count(\"*\")) * 100)\n",
    "                       .alias(\"closed_case_rate\")))\n",
    "\n",
    "\n",
    "ranked_precincts = (closed_case_rate_df\n",
    "                    .withColumn(\"#\", F.row_number().over(window_spec))\n",
    "                    .filter(F.col(\"#\") <= 3))\n",
    "\n",
    "ranked_precincts.show(50, truncate=False)\n",
    "\n",
    "end_time = time.time()\n",
    "print(f\"Time taken: {end_time - start_time:.2f} seconds\")\n"
   ]
  },
  {
   "cell_type": "code",
   "execution_count": null,
   "id": "1875ed84",
   "metadata": {},
   "outputs": [],
   "source": []
  }
 ],
 "metadata": {
  "kernelspec": {
   "display_name": "Sparkmagic (PySpark)",
   "language": "python",
   "name": "pysparkkernel"
  },
  "language_info": {
   "codemirror_mode": {
    "name": "python",
    "version": 3
   },
   "file_extension": ".py",
   "mimetype": "text/x-python",
   "name": "pyspark",
   "pygments_lexer": "python3"
  }
 },
 "nbformat": 4,
 "nbformat_minor": 5
}
